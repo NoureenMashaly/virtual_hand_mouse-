{
 "cells": [
  {
   "cell_type": "code",
   "execution_count": 17,
   "metadata": {},
   "outputs": [
    {
     "name": "stdout",
     "output_type": "stream",
     "text": [
      "Requirement already satisfied: pynput in c:\\users\\user\\appdata\\local\\programs\\python\\python311\\lib\\site-packages (1.7.7)\n",
      "Requirement already satisfied: six in c:\\users\\user\\appdata\\roaming\\python\\python311\\site-packages (from pynput) (1.16.0)\n",
      "Note: you may need to restart the kernel to use updated packages.\n"
     ]
    }
   ],
   "source": [
    "pip install pynput"
   ]
  },
  {
   "cell_type": "code",
   "execution_count": 18,
   "metadata": {},
   "outputs": [
    {
     "name": "stdout",
     "output_type": "stream",
     "text": [
      "Requirement already satisfied: pyautogui in c:\\users\\user\\appdata\\local\\programs\\python\\python311\\lib\\site-packages (0.9.54)Note: you may need to restart the kernel to use updated packages.\n",
      "\n",
      "Requirement already satisfied: pymsgbox in c:\\users\\user\\appdata\\local\\programs\\python\\python311\\lib\\site-packages (from pyautogui) (1.0.9)\n",
      "Requirement already satisfied: pytweening>=1.0.4 in c:\\users\\user\\appdata\\local\\programs\\python\\python311\\lib\\site-packages (from pyautogui) (1.2.0)\n",
      "Requirement already satisfied: pyscreeze>=0.1.21 in c:\\users\\user\\appdata\\local\\programs\\python\\python311\\lib\\site-packages (from pyautogui) (0.1.30)\n",
      "Requirement already satisfied: pygetwindow>=0.0.5 in c:\\users\\user\\appdata\\local\\programs\\python\\python311\\lib\\site-packages (from pyautogui) (0.0.9)\n",
      "Requirement already satisfied: mouseinfo in c:\\users\\user\\appdata\\local\\programs\\python\\python311\\lib\\site-packages (from pyautogui) (0.1.3)\n",
      "Requirement already satisfied: pyrect in c:\\users\\user\\appdata\\local\\programs\\python\\python311\\lib\\site-packages (from pygetwindow>=0.0.5->pyautogui) (0.2.0)\n",
      "Requirement already satisfied: Pillow>=9.3.0 in c:\\users\\user\\appdata\\local\\programs\\python\\python311\\lib\\site-packages (from pyscreeze>=0.1.21->pyautogui) (10.1.0)\n",
      "Requirement already satisfied: pyperclip in c:\\users\\user\\appdata\\local\\programs\\python\\python311\\lib\\site-packages (from mouseinfo->pyautogui) (1.9.0)\n"
     ]
    }
   ],
   "source": [
    "pip install pyautogui"
   ]
  },
  {
   "cell_type": "code",
   "execution_count": 19,
   "metadata": {},
   "outputs": [],
   "source": [
    "import cv2\n",
    "import mediapipe as mp\n",
    "import pyautogui\n",
    "import random\n",
    "\n",
    "#to control the screen and be able to press buttons virtualy \n",
    "from pynput.mouse import Button, Controller\n",
    "mouse = Controller()\n",
    "\n",
    "\n",
    "screen_width, screen_height = pyautogui.size()\n",
    "\n",
    "mpHands = mp.solutions.hands"
   ]
  },
  {
   "cell_type": "markdown",
   "metadata": {},
   "source": [
    "## We detect the finger parts \n",
    "### using the following numbers in the the picture below "
   ]
  },
  {
   "cell_type": "markdown",
   "metadata": {},
   "source": [
    "![alt text](hand_landmarks.png)"
   ]
  },
  {
   "cell_type": "markdown",
   "metadata": {},
   "source": [
    "### we get the distance and angle between points to detect movement of the hand "
   ]
  },
  {
   "cell_type": "code",
   "execution_count": 20,
   "metadata": {},
   "outputs": [],
   "source": [
    "import numpy as np\n",
    "\n",
    "def get_angle(a, b, c):\n",
    "    #we see the angle between ab and bc to detect if finger is bent or straight \n",
    "    radians = np.arctan2(c[1] - b[1], c[0] - b[0]) - np.arctan2(a[1] - b[1], a[0] - b[0])\n",
    "    angle = np.abs(np.degrees(radians))\n",
    "    return angle\n",
    "\n",
    "\n",
    "def get_distance(landmark_ist):\n",
    "    if len(landmark_ist) < 2:\n",
    "        return\n",
    "    (x1, y1), (x2, y2) = landmark_ist[0], landmark_ist[1]\n",
    "    L = np.hypot(x2 - x1, y2 - y1)\n",
    "    return np.interp(L, [0, 1], [0, 1000])"
   ]
  },
  {
   "cell_type": "code",
   "execution_count": 21,
   "metadata": {},
   "outputs": [],
   "source": [
    "\n",
    "def find_finger_tip(processed):\n",
    "    if processed.multi_hand_landmarks:\n",
    "        hand_landmarks = processed.multi_hand_landmarks[0]  # Assuming only one hand is detected\n",
    "        index_finger_tip = hand_landmarks.landmark[mpHands.HandLandmark.INDEX_FINGER_TIP] #detect the tip of the index finger \n",
    "        return index_finger_tip\n",
    "    return None, None"
   ]
  },
  {
   "cell_type": "code",
   "execution_count": 22,
   "metadata": {},
   "outputs": [],
   "source": [
    "def move_mouse(index_finger_tip):\n",
    "    # take co-ordinates of the index finger's tips and make it match the cordinates on the screen \n",
    "    if index_finger_tip is not None:\n",
    "        x = int(index_finger_tip.x * screen_width)\n",
    "        y = int(index_finger_tip.y / 2 * screen_height)\n",
    "        pyautogui.moveTo(x, y)\n",
    "\n",
    "\n",
    "def is_left_click(landmark_list, thumb_index_dist): #find if the index is bent and middle finger and thumb are straight \n",
    "    return (\n",
    "            get_angle(landmark_list[5], landmark_list[6], landmark_list[8]) < 50 and\n",
    "            get_angle(landmark_list[9], landmark_list[10], landmark_list[12]) > 90 and\n",
    "            thumb_index_dist > 50\n",
    "    )\n",
    "\n",
    "\n",
    "def is_right_click(landmark_list, thumb_index_dist): #find if the middle finger is bent and index finger and thumb are straight\n",
    "    return (\n",
    "            get_angle(landmark_list[9], landmark_list[10], landmark_list[12]) < 50 and\n",
    "            get_angle(landmark_list[5], landmark_list[6], landmark_list[8]) > 90  and\n",
    "            thumb_index_dist > 50\n",
    "    )\n",
    "\n",
    "\n",
    "def is_double_click(landmark_list, thumb_index_dist): #both index and middle fingers are bent and thumb is straight \n",
    "    return (\n",
    "            get_angle(landmark_list[5], landmark_list[6], landmark_list[8]) < 50 and\n",
    "            get_angle(landmark_list[9], landmark_list[10], landmark_list[12]) < 50 and\n",
    "            thumb_index_dist > 50\n",
    "    )\n"
   ]
  },
  {
   "cell_type": "markdown",
   "metadata": {},
   "source": [
    "<ul>\n",
    "    <li>if thumb is bent and index and middle finger are straight the mouse follows the cordinates of the index's tip cordinates \n",
    "    <li>if middle finger and thumb is straight and index finger is bent then left click \n",
    "    <li>if index finger and thumb is straight and middle finger is bent then right click \n",
    "    <li>if both middle finger and index finger are bent then double click \n",
    "<ul\\>"
   ]
  },
  {
   "cell_type": "code",
   "execution_count": 23,
   "metadata": {},
   "outputs": [],
   "source": [
    "def detect_gesture(frame, landmark_list, processed):\n",
    "    if len(landmark_list) >= 21:\n",
    "\n",
    "        index_finger_tip = find_finger_tip(processed)\n",
    "        thumb_index_dist = get_distance([landmark_list[4], landmark_list[5]])\n",
    "\n",
    "        if get_distance([landmark_list[4], landmark_list[5]]) < 60  and get_angle(landmark_list[5], landmark_list[6], landmark_list[8]) > 90:\n",
    "            move_mouse(index_finger_tip)\n",
    "        elif is_left_click(landmark_list,  thumb_index_dist):\n",
    "            mouse.press(Button.left)\n",
    "            mouse.release(Button.left)\n",
    "            cv2.putText(frame, \"Left Click\", (50, 50), cv2.FONT_HERSHEY_SIMPLEX, 1, (0, 255, 0), 2)\n",
    "        elif is_right_click(landmark_list, thumb_index_dist):\n",
    "            mouse.press(Button.right)\n",
    "            mouse.release(Button.right)\n",
    "            cv2.putText(frame, \"Right Click\", (50, 50), cv2.FONT_HERSHEY_SIMPLEX, 1, (0, 0, 255), 2)\n",
    "        elif is_double_click(landmark_list, thumb_index_dist):\n",
    "            pyautogui.doubleClick()\n",
    "            cv2.putText(frame, \"Double Click\", (50, 50), cv2.FONT_HERSHEY_SIMPLEX, 1, (255, 255, 0), 2)"
   ]
  },
  {
   "cell_type": "code",
   "execution_count": 24,
   "metadata": {},
   "outputs": [],
   "source": [
    "import cv2\n",
    "import mediapipe as mp\n",
    "import mediapipe as mp\n",
    "import pyautogui\n",
    "import random\n",
    "from pynput.mouse import Button, Controller\n",
    "mouse = Controller()"
   ]
  },
  {
   "cell_type": "code",
   "execution_count": 25,
   "metadata": {},
   "outputs": [],
   "source": [
    "screen_width, screen_height = pyautogui.size() # detecting the hand \n",
    "mpHands = mp.solutions.hands\n",
    "hands = mpHands.Hands(\n",
    "    static_image_mode=False,\n",
    "    model_complexity=1,\n",
    "    min_detection_confidence=0.7,\n",
    "    min_tracking_confidence=0.7,\n",
    "    max_num_hands=1\n",
    ")\n"
   ]
  },
  {
   "cell_type": "code",
   "execution_count": 26,
   "metadata": {},
   "outputs": [],
   "source": [
    "\n",
    "def main():\n",
    "    draw = mp.solutions.drawing_utils\n",
    "    cap = cv2.VideoCapture(0)\n",
    "    draw = mp.solutions.drawing_utils\n",
    "    try:\n",
    "        while cap.isOpened():\n",
    "            ret, frame = cap.read()\n",
    "            if not ret:\n",
    "                break\n",
    "            frame = cv2.flip(frame, 1)\n",
    "            frameRGB = cv2.cvtColor(frame, cv2.COLOR_BGR2RGB)\n",
    "            processed = hands.process(frameRGB)\n",
    "\n",
    "            landmark_list = []\n",
    "            if processed.multi_hand_landmarks:\n",
    "                hand_landmarks = processed.multi_hand_landmarks[0]  # Assuming only one hand is detected\n",
    "                draw.draw_landmarks(frame, hand_landmarks, mpHands.HAND_CONNECTIONS)\n",
    "                for lm in hand_landmarks.landmark:\n",
    "                    landmark_list.append((lm.x, lm.y))\n",
    "\n",
    "            detect_gesture(frame, landmark_list, processed)\n",
    "\n",
    "            cv2.imshow('Frame',frame)\n",
    "            if cv2.waitKey(1) & 0xFF == ord('q'):  #press \"q\" to close the camera window \n",
    "                break\n",
    "    finally:\n",
    "         cap.release()\n",
    "         cv2.destroyAllWindows()\n",
    "\n",
    " \n",
    "if __name__ == '__main__':\n",
    "    main()          "
   ]
  },
  {
   "cell_type": "code",
   "execution_count": null,
   "metadata": {},
   "outputs": [],
   "source": []
  }
 ],
 "metadata": {
  "kernelspec": {
   "display_name": "Python 3",
   "language": "python",
   "name": "python3"
  },
  "language_info": {
   "codemirror_mode": {
    "name": "ipython",
    "version": 3
   },
   "file_extension": ".py",
   "mimetype": "text/x-python",
   "name": "python",
   "nbconvert_exporter": "python",
   "pygments_lexer": "ipython3",
   "version": "3.11.4"
  }
 },
 "nbformat": 4,
 "nbformat_minor": 2
}
